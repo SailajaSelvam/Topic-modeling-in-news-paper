{
  "cells": [
    {
      "cell_type": "code",
      "execution_count": null,
      "metadata": {
        "id": "EuO0qjiKYBDA"
      },
      "outputs": [],
      "source": [
        "import pandas as pd\n",
        "import matplotlib.pyplot as plt\n",
        "import seaborn as sns\n",
        "import os"
      ]
    },
    {
      "cell_type": "code",
      "execution_count": null,
      "metadata": {
        "id": "-YUOtISMdbG2"
      },
      "outputs": [],
      "source": [
        "csv_files = ['/content/business_data.csv', '/content/education_data.csv', '/content/entertainment_data.csv', '/content/sports_data.csv', '/content/technology_data.csv']"
      ]
    },
    {
      "cell_type": "code",
      "execution_count": null,
      "metadata": {
        "id": "A8pIjeCZfa3w"
      },
      "outputs": [],
      "source": [
        "df_list = [pd.read_csv(os.path.join(f)) for f in csv_files]\n",
        "df = pd.concat(df_list, ignore_index=True)"
      ]
    },
    {
      "cell_type": "code",
      "execution_count": null,
      "metadata": {
        "colab": {
          "base_uri": "https://localhost:8080/",
          "height": 414
        },
        "id": "DxC7wdB_fnE4",
        "outputId": "bdb119c2-55ce-4c37-f255-968c915a0b53"
      },
      "outputs": [
        {
          "name": "stdout",
          "output_type": "stream",
          "text": [
            "Merged Dataset Shape: (10000, 5)\n",
            "Columns: Index(['headlines', 'description', 'content', 'url', 'category'], dtype='object')\n"
          ]
        },
        {
          "data": {
            "application/vnd.google.colaboratory.intrinsic+json": {
              "summary": "{\n  \"name\": \"df\",\n  \"rows\": 10000,\n  \"fields\": [\n    {\n      \"column\": \"headlines\",\n      \"properties\": {\n        \"dtype\": \"string\",\n        \"num_unique_values\": 9987,\n        \"samples\": [\n          \"Varun Beverages Q2 Results: Net profit jumps 25% to Rs 1,005 crore, revenue rises 13.6%\",\n          \"NEET UG: Top-ranked medical colleges in Delhi\",\n          \"7 things you need to know about Gemini, Google\\u2019s rival to OpenAI\\u2019s GPT\"\n        ],\n        \"semantic_type\": \"\",\n        \"description\": \"\"\n      }\n    },\n    {\n      \"column\": \"description\",\n      \"properties\": {\n        \"dtype\": \"string\",\n        \"num_unique_values\": 9978,\n        \"samples\": [\n          \"Animal box office collection Day 8 early report: Helmed by Sandeep Reddy Vanga, the Ranbir Kapoo-starrer has collected more than Rs 560 crore worldwide.\",\n          \"The 23-year-old seam bowling all-rounder, who is recovering from a surgery on his index finger in his right hand, had a bowl at the nets in Alur.\",\n          \"Star forward, Karim Benzema has been nominated for the men's best player award alongside Lionel Messi and Kylian Mbappe, both of whom had starred in the 2022 World Cup final last year.\"\n        ],\n        \"semantic_type\": \"\",\n        \"description\": \"\"\n      }\n    },\n    {\n      \"column\": \"content\",\n      \"properties\": {\n        \"dtype\": \"string\",\n        \"num_unique_values\": 9991,\n        \"samples\": [\n          \"Days after Ranbir Kapoor managed to upstage mother Neetu Kapoor in an ad for a snack company, Neetu has made a comeback which has been described as \\u201cperfect\\u201d by Ranbir\\u2019s Animal co-star Triptii Dimri. Earlier, an ad for Lay\\u2019s had Ranbir snacking under Neetu\\u2019s nose without her getting to know about it. In the new ad, Neetu has managed to do the same.\\nTriptii shared the ad on her social media and wrote in the caption, \\u201cHave you also caught your friends red-handed stealing your @lays_india pack? \\ud83d\\ude05 Perfect comeback @neetu54 ji! Scorecard is now even at 1-1, is there more to come? \\ud83d\\udc40.\\u201d Lays India shared it with the caption, \\u201cWhen you love something, you just can\\u2019t let it go! #IseyKehteHainPyaar scorecard update RK 1- Neetu 1.\\u201d\\nYou have exhausted your monthly limit of free stories.\\nRegister to read more stories\\nContinue With:-\\nGoogle\\nFacebook\\nEmail\\nAlready have an account? Sign in\\n\\nClick for more updates and latest Bollywood news along with Entertainment updates. Also get latest news and top headlines from India and around the world at The Indian Express.\",\n          \"Paris Saint Germain(PSG) superstar Kylian Mbappe is awestruck after his teammate Neymar Jr takes a free kick during warmups ahead of the team\\u2019s Ligue 1 clash against Stade de Reims on Sunday.\\nIn a video released by Prime Video Sport France Neymar is seen taking a free kick outside the penalty box he strikes it cleanly into the top left corner of the goal. The goalkeeper did not even move to try to save the ball.\",\n          \"India\\u2019s real GDP growth rate is likely to moderate marginally to 6.3 per cent in 2024 from estimated 6.4 per cent growth for 2023, according to a report from Goldman Sachs.\\nHowever, it is likely to be a tale of two halves, the report said. \\u201cSubsidies and transfer payments as we head into the general elections in Q2 2024 will likely be the growth driver in the first half. Post-elections, we expect investment growth to re-accelerate, especially from the private side,\\u201d Goldman Sachs said.\\nRegister to continue reading this story\\nGoogle\\nFacebook\\nEmail\\nAlready have an account? Sign in\"\n        ],\n        \"semantic_type\": \"\",\n        \"description\": \"\"\n      }\n    },\n    {\n      \"column\": \"url\",\n      \"properties\": {\n        \"dtype\": \"string\",\n        \"num_unique_values\": 9990,\n        \"samples\": [\n          \"https://indianexpress.com/article/entertainment/tamil/vetrimaaran-on-nayantharas-annapoorni-being-taken-off-netflix-these-decisions-will-question-the-authority-of-cbfc-9113461/\",\n          \"https://indianexpress.com/article/entertainment/bollywood/karan-johar-questions-why-kajol-kept-a-silent-distance-from-rani-mukerji-kuch-kuch-hota-hai-9048063/\",\n          \"https://indianexpress.com/article/business/economy/gdp-growth-may-decline-marginally-to-6-3-in-2024-goldman-sachs-9035380/\"\n        ],\n        \"semantic_type\": \"\",\n        \"description\": \"\"\n      }\n    },\n    {\n      \"column\": \"category\",\n      \"properties\": {\n        \"dtype\": \"category\",\n        \"num_unique_values\": 5,\n        \"samples\": [\n          \"education\",\n          \"technology\",\n          \"entertainment\"\n        ],\n        \"semantic_type\": \"\",\n        \"description\": \"\"\n      }\n    }\n  ]\n}",
              "type": "dataframe",
              "variable_name": "df"
            },
            "text/html": [
              "\n",
              "  <div id=\"df-196a4797-77eb-4b2c-bd6e-a8e8ebcdefde\" class=\"colab-df-container\">\n",
              "    <div>\n",
              "<style scoped>\n",
              "    .dataframe tbody tr th:only-of-type {\n",
              "        vertical-align: middle;\n",
              "    }\n",
              "\n",
              "    .dataframe tbody tr th {\n",
              "        vertical-align: top;\n",
              "    }\n",
              "\n",
              "    .dataframe thead th {\n",
              "        text-align: right;\n",
              "    }\n",
              "</style>\n",
              "<table border=\"1\" class=\"dataframe\">\n",
              "  <thead>\n",
              "    <tr style=\"text-align: right;\">\n",
              "      <th></th>\n",
              "      <th>headlines</th>\n",
              "      <th>description</th>\n",
              "      <th>content</th>\n",
              "      <th>url</th>\n",
              "      <th>category</th>\n",
              "    </tr>\n",
              "  </thead>\n",
              "  <tbody>\n",
              "    <tr>\n",
              "      <th>0</th>\n",
              "      <td>Nirmala Sitharaman to equal Morarji Desai’s re...</td>\n",
              "      <td>With the presentation of the interim budget on...</td>\n",
              "      <td>Sitharaman, the first full-time woman finance ...</td>\n",
              "      <td>https://indianexpress.com/article/business/bud...</td>\n",
              "      <td>business</td>\n",
              "    </tr>\n",
              "    <tr>\n",
              "      <th>1</th>\n",
              "      <td>‘Will densify network, want to be at least no....</td>\n",
              "      <td>'In terms of market share, we aim to double it...</td>\n",
              "      <td>The merger of Tata group’s budget airlines Air...</td>\n",
              "      <td>https://indianexpress.com/article/business/avi...</td>\n",
              "      <td>business</td>\n",
              "    </tr>\n",
              "    <tr>\n",
              "      <th>2</th>\n",
              "      <td>Air India group to induct an aircraft every si...</td>\n",
              "      <td>Air India currently has 117 operational aircra...</td>\n",
              "      <td>The Air India group plans to induct one aircra...</td>\n",
              "      <td>https://indianexpress.com/article/business/avi...</td>\n",
              "      <td>business</td>\n",
              "    </tr>\n",
              "    <tr>\n",
              "      <th>3</th>\n",
              "      <td>Red Sea woes: Exporters seek increased credit ...</td>\n",
              "      <td>Rising attacks forced shippers to consider the...</td>\n",
              "      <td>Indian exporters have asked the central govern...</td>\n",
              "      <td>https://indianexpress.com/article/business/red...</td>\n",
              "      <td>business</td>\n",
              "    </tr>\n",
              "    <tr>\n",
              "      <th>4</th>\n",
              "      <td>Air India group to induct a plane every 6 days...</td>\n",
              "      <td>Apart from fleet expansion, 2024 will also see...</td>\n",
              "      <td>The Air India group plans to induct one aircra...</td>\n",
              "      <td>https://indianexpress.com/article/business/avi...</td>\n",
              "      <td>business</td>\n",
              "    </tr>\n",
              "  </tbody>\n",
              "</table>\n",
              "</div>\n",
              "    <div class=\"colab-df-buttons\">\n",
              "\n",
              "  <div class=\"colab-df-container\">\n",
              "    <button class=\"colab-df-convert\" onclick=\"convertToInteractive('df-196a4797-77eb-4b2c-bd6e-a8e8ebcdefde')\"\n",
              "            title=\"Convert this dataframe to an interactive table.\"\n",
              "            style=\"display:none;\">\n",
              "\n",
              "  <svg xmlns=\"http://www.w3.org/2000/svg\" height=\"24px\" viewBox=\"0 -960 960 960\">\n",
              "    <path d=\"M120-120v-720h720v720H120Zm60-500h600v-160H180v160Zm220 220h160v-160H400v160Zm0 220h160v-160H400v160ZM180-400h160v-160H180v160Zm440 0h160v-160H620v160ZM180-180h160v-160H180v160Zm440 0h160v-160H620v160Z\"/>\n",
              "  </svg>\n",
              "    </button>\n",
              "\n",
              "  <style>\n",
              "    .colab-df-container {\n",
              "      display:flex;\n",
              "      gap: 12px;\n",
              "    }\n",
              "\n",
              "    .colab-df-convert {\n",
              "      background-color: #E8F0FE;\n",
              "      border: none;\n",
              "      border-radius: 50%;\n",
              "      cursor: pointer;\n",
              "      display: none;\n",
              "      fill: #1967D2;\n",
              "      height: 32px;\n",
              "      padding: 0 0 0 0;\n",
              "      width: 32px;\n",
              "    }\n",
              "\n",
              "    .colab-df-convert:hover {\n",
              "      background-color: #E2EBFA;\n",
              "      box-shadow: 0px 1px 2px rgba(60, 64, 67, 0.3), 0px 1px 3px 1px rgba(60, 64, 67, 0.15);\n",
              "      fill: #174EA6;\n",
              "    }\n",
              "\n",
              "    .colab-df-buttons div {\n",
              "      margin-bottom: 4px;\n",
              "    }\n",
              "\n",
              "    [theme=dark] .colab-df-convert {\n",
              "      background-color: #3B4455;\n",
              "      fill: #D2E3FC;\n",
              "    }\n",
              "\n",
              "    [theme=dark] .colab-df-convert:hover {\n",
              "      background-color: #434B5C;\n",
              "      box-shadow: 0px 1px 3px 1px rgba(0, 0, 0, 0.15);\n",
              "      filter: drop-shadow(0px 1px 2px rgba(0, 0, 0, 0.3));\n",
              "      fill: #FFFFFF;\n",
              "    }\n",
              "  </style>\n",
              "\n",
              "    <script>\n",
              "      const buttonEl =\n",
              "        document.querySelector('#df-196a4797-77eb-4b2c-bd6e-a8e8ebcdefde button.colab-df-convert');\n",
              "      buttonEl.style.display =\n",
              "        google.colab.kernel.accessAllowed ? 'block' : 'none';\n",
              "\n",
              "      async function convertToInteractive(key) {\n",
              "        const element = document.querySelector('#df-196a4797-77eb-4b2c-bd6e-a8e8ebcdefde');\n",
              "        const dataTable =\n",
              "          await google.colab.kernel.invokeFunction('convertToInteractive',\n",
              "                                                    [key], {});\n",
              "        if (!dataTable) return;\n",
              "\n",
              "        const docLinkHtml = 'Like what you see? Visit the ' +\n",
              "          '<a target=\"_blank\" href=https://colab.research.google.com/notebooks/data_table.ipynb>data table notebook</a>'\n",
              "          + ' to learn more about interactive tables.';\n",
              "        element.innerHTML = '';\n",
              "        dataTable['output_type'] = 'display_data';\n",
              "        await google.colab.output.renderOutput(dataTable, element);\n",
              "        const docLink = document.createElement('div');\n",
              "        docLink.innerHTML = docLinkHtml;\n",
              "        element.appendChild(docLink);\n",
              "      }\n",
              "    </script>\n",
              "  </div>\n",
              "\n",
              "\n",
              "    <div id=\"df-134950e7-d115-4b89-b02c-9be052a8ee1a\">\n",
              "      <button class=\"colab-df-quickchart\" onclick=\"quickchart('df-134950e7-d115-4b89-b02c-9be052a8ee1a')\"\n",
              "                title=\"Suggest charts\"\n",
              "                style=\"display:none;\">\n",
              "\n",
              "<svg xmlns=\"http://www.w3.org/2000/svg\" height=\"24px\"viewBox=\"0 0 24 24\"\n",
              "     width=\"24px\">\n",
              "    <g>\n",
              "        <path d=\"M19 3H5c-1.1 0-2 .9-2 2v14c0 1.1.9 2 2 2h14c1.1 0 2-.9 2-2V5c0-1.1-.9-2-2-2zM9 17H7v-7h2v7zm4 0h-2V7h2v10zm4 0h-2v-4h2v4z\"/>\n",
              "    </g>\n",
              "</svg>\n",
              "      </button>\n",
              "\n",
              "<style>\n",
              "  .colab-df-quickchart {\n",
              "      --bg-color: #E8F0FE;\n",
              "      --fill-color: #1967D2;\n",
              "      --hover-bg-color: #E2EBFA;\n",
              "      --hover-fill-color: #174EA6;\n",
              "      --disabled-fill-color: #AAA;\n",
              "      --disabled-bg-color: #DDD;\n",
              "  }\n",
              "\n",
              "  [theme=dark] .colab-df-quickchart {\n",
              "      --bg-color: #3B4455;\n",
              "      --fill-color: #D2E3FC;\n",
              "      --hover-bg-color: #434B5C;\n",
              "      --hover-fill-color: #FFFFFF;\n",
              "      --disabled-bg-color: #3B4455;\n",
              "      --disabled-fill-color: #666;\n",
              "  }\n",
              "\n",
              "  .colab-df-quickchart {\n",
              "    background-color: var(--bg-color);\n",
              "    border: none;\n",
              "    border-radius: 50%;\n",
              "    cursor: pointer;\n",
              "    display: none;\n",
              "    fill: var(--fill-color);\n",
              "    height: 32px;\n",
              "    padding: 0;\n",
              "    width: 32px;\n",
              "  }\n",
              "\n",
              "  .colab-df-quickchart:hover {\n",
              "    background-color: var(--hover-bg-color);\n",
              "    box-shadow: 0 1px 2px rgba(60, 64, 67, 0.3), 0 1px 3px 1px rgba(60, 64, 67, 0.15);\n",
              "    fill: var(--button-hover-fill-color);\n",
              "  }\n",
              "\n",
              "  .colab-df-quickchart-complete:disabled,\n",
              "  .colab-df-quickchart-complete:disabled:hover {\n",
              "    background-color: var(--disabled-bg-color);\n",
              "    fill: var(--disabled-fill-color);\n",
              "    box-shadow: none;\n",
              "  }\n",
              "\n",
              "  .colab-df-spinner {\n",
              "    border: 2px solid var(--fill-color);\n",
              "    border-color: transparent;\n",
              "    border-bottom-color: var(--fill-color);\n",
              "    animation:\n",
              "      spin 1s steps(1) infinite;\n",
              "  }\n",
              "\n",
              "  @keyframes spin {\n",
              "    0% {\n",
              "      border-color: transparent;\n",
              "      border-bottom-color: var(--fill-color);\n",
              "      border-left-color: var(--fill-color);\n",
              "    }\n",
              "    20% {\n",
              "      border-color: transparent;\n",
              "      border-left-color: var(--fill-color);\n",
              "      border-top-color: var(--fill-color);\n",
              "    }\n",
              "    30% {\n",
              "      border-color: transparent;\n",
              "      border-left-color: var(--fill-color);\n",
              "      border-top-color: var(--fill-color);\n",
              "      border-right-color: var(--fill-color);\n",
              "    }\n",
              "    40% {\n",
              "      border-color: transparent;\n",
              "      border-right-color: var(--fill-color);\n",
              "      border-top-color: var(--fill-color);\n",
              "    }\n",
              "    60% {\n",
              "      border-color: transparent;\n",
              "      border-right-color: var(--fill-color);\n",
              "    }\n",
              "    80% {\n",
              "      border-color: transparent;\n",
              "      border-right-color: var(--fill-color);\n",
              "      border-bottom-color: var(--fill-color);\n",
              "    }\n",
              "    90% {\n",
              "      border-color: transparent;\n",
              "      border-bottom-color: var(--fill-color);\n",
              "    }\n",
              "  }\n",
              "</style>\n",
              "\n",
              "      <script>\n",
              "        async function quickchart(key) {\n",
              "          const quickchartButtonEl =\n",
              "            document.querySelector('#' + key + ' button');\n",
              "          quickchartButtonEl.disabled = true;  // To prevent multiple clicks.\n",
              "          quickchartButtonEl.classList.add('colab-df-spinner');\n",
              "          try {\n",
              "            const charts = await google.colab.kernel.invokeFunction(\n",
              "                'suggestCharts', [key], {});\n",
              "          } catch (error) {\n",
              "            console.error('Error during call to suggestCharts:', error);\n",
              "          }\n",
              "          quickchartButtonEl.classList.remove('colab-df-spinner');\n",
              "          quickchartButtonEl.classList.add('colab-df-quickchart-complete');\n",
              "        }\n",
              "        (() => {\n",
              "          let quickchartButtonEl =\n",
              "            document.querySelector('#df-134950e7-d115-4b89-b02c-9be052a8ee1a button');\n",
              "          quickchartButtonEl.style.display =\n",
              "            google.colab.kernel.accessAllowed ? 'block' : 'none';\n",
              "        })();\n",
              "      </script>\n",
              "    </div>\n",
              "\n",
              "    </div>\n",
              "  </div>\n"
            ],
            "text/plain": [
              "                                           headlines  \\\n",
              "0  Nirmala Sitharaman to equal Morarji Desai’s re...   \n",
              "1  ‘Will densify network, want to be at least no....   \n",
              "2  Air India group to induct an aircraft every si...   \n",
              "3  Red Sea woes: Exporters seek increased credit ...   \n",
              "4  Air India group to induct a plane every 6 days...   \n",
              "\n",
              "                                         description  \\\n",
              "0  With the presentation of the interim budget on...   \n",
              "1  'In terms of market share, we aim to double it...   \n",
              "2  Air India currently has 117 operational aircra...   \n",
              "3  Rising attacks forced shippers to consider the...   \n",
              "4  Apart from fleet expansion, 2024 will also see...   \n",
              "\n",
              "                                             content  \\\n",
              "0  Sitharaman, the first full-time woman finance ...   \n",
              "1  The merger of Tata group’s budget airlines Air...   \n",
              "2  The Air India group plans to induct one aircra...   \n",
              "3  Indian exporters have asked the central govern...   \n",
              "4  The Air India group plans to induct one aircra...   \n",
              "\n",
              "                                                 url  category  \n",
              "0  https://indianexpress.com/article/business/bud...  business  \n",
              "1  https://indianexpress.com/article/business/avi...  business  \n",
              "2  https://indianexpress.com/article/business/avi...  business  \n",
              "3  https://indianexpress.com/article/business/red...  business  \n",
              "4  https://indianexpress.com/article/business/avi...  business  "
            ]
          },
          "execution_count": 4,
          "metadata": {},
          "output_type": "execute_result"
        }
      ],
      "source": [
        "print(\"Merged Dataset Shape:\", df.shape)\n",
        "print(\"Columns:\", df.columns)\n",
        "df.head()"
      ]
    },
    {
      "cell_type": "code",
      "execution_count": null,
      "metadata": {
        "colab": {
          "base_uri": "https://localhost:8080/",
          "height": 614
        },
        "id": "TpNkn1ohfuQM",
        "outputId": "5d2d7c15-4907-4ccb-e49f-f38d6772fcb5"
      },
      "outputs": [
        {
          "name": "stderr",
          "output_type": "stream",
          "text": [
            "<ipython-input-5-d73c7d03dad7>:2: FutureWarning: \n",
            "\n",
            "Passing `palette` without assigning `hue` is deprecated and will be removed in v0.14.0. Assign the `x` variable to `hue` and set `legend=False` for the same effect.\n",
            "\n",
            "  sns.countplot(x='category', data=df, palette=\"Set2\")\n"
          ]
        },
        {
          "data": {
            "image/png": "[encoded data removed]",
            "text/plain": [
              "<Figure size 800x500 with 1 Axes>"
            ]
          },
          "metadata": {},
          "output_type": "display_data"
        }
      ],
      "source": [
        "plt.figure(figsize=(8,5))\n",
        "sns.countplot(x='category', data=df, palette=\"Set2\")\n",
        "plt.title('Distribution of Articles by Category')\n",
        "plt.xlabel('Category')\n",
        "plt.ylabel('Number of Articles')\n",
        "plt.xticks(rotation=45)\n",
        "plt.tight_layout()\n",
        "plt.show()\n"
      ]
    },
    {
      "cell_type": "code",
      "execution_count": null,
      "metadata": {
        "colab": {
          "base_uri": "https://localhost:8080/",
          "height": 614
        },
        "id": "owhGp-86f0Ev",
        "outputId": "895ee49b-b8e8-4ae2-fd3a-1bc4e3c7a13f"
      },
      "outputs": [
        {
          "name": "stderr",
          "output_type": "stream",
          "text": [
            "<ipython-input-6-20428b68c1d6>:6: FutureWarning: \n",
            "\n",
            "Passing `palette` without assigning `hue` is deprecated and will be removed in v0.14.0. Assign the `x` variable to `hue` and set `legend=False` for the same effect.\n",
            "\n",
            "  sns.barplot(x=avg_word_count.index, y=avg_word_count.values, palette=\"Set3\")\n"
          ]
        },
        {
          "data": {
            "image/png": "[encoded data removed]",
            "text/plain": [
              "<Figure size 800x500 with 1 Axes>"
            ]
          },
          "metadata": {},
          "output_type": "display_data"
        }
      ],
      "source": [
        "df['word_count'] = df['content'].astype(str).apply(lambda x: len(x.split()))\n",
        "\n",
        "avg_word_count = df.groupby('category')['word_count'].mean().sort_values(ascending=False)\n",
        "\n",
        "plt.figure(figsize=(8,5))\n",
        "sns.barplot(x=avg_word_count.index, y=avg_word_count.values, palette=\"Set3\")\n",
        "plt.title('Average Word Count per Category')\n",
        "plt.xlabel('Category')\n",
        "plt.ylabel('Average Word Count')\n",
        "plt.xticks(rotation=45)\n",
        "plt.tight_layout()\n",
        "plt.show()"
      ]
    },
    {
      "cell_type": "code",
      "execution_count": null,
      "metadata": {
        "colab": {
          "base_uri": "https://localhost:8080/"
        },
        "id": "rx_qDS3H12G7",
        "outputId": "006e40ee-872b-4104-94ab-dcbbb2c191d2"
      },
      "outputs": [
        {
          "name": "stdout",
          "output_type": "stream",
          "text": [
            "Requirement already satisfied: nltk in /usr/local/lib/python3.11/dist-packages (3.9.1)\n",
            "Collecting contractions\n",
            "  Downloading contractions-0.1.73-py2.py3-none-any.whl.metadata (1.2 kB)\n",
            "Collecting emoji\n",
            "  Downloading emoji-2.14.1-py3-none-any.whl.metadata (5.7 kB)\n",
            "Collecting pyspellchecker\n",
            "  Downloading pyspellchecker-0.8.2-py3-none-any.whl.metadata (9.4 kB)\n",
            "Requirement already satisfied: click in /usr/local/lib/python3.11/dist-packages (from nltk) (8.1.8)\n",
            "Requirement already satisfied: joblib in /usr/local/lib/python3.11/dist-packages (from nltk) (1.4.2)\n",
            "Requirement already satisfied: regex>=2021.8.3 in /usr/local/lib/python3.11/dist-packages (from nltk) (2024.11.6)\n",
            "Requirement already satisfied: tqdm in /usr/local/lib/python3.11/dist-packages (from nltk) (4.67.1)\n",
            "Collecting textsearch>=0.0.21 (from contractions)\n",
            "  Downloading textsearch-0.0.24-py2.py3-none-any.whl.metadata (1.2 kB)\n",
            "Collecting anyascii (from textsearch>=0.0.21->contractions)\n",
            "  Downloading anyascii-0.3.2-py3-none-any.whl.metadata (1.5 kB)\n",
            "Collecting pyahocorasick (from textsearch>=0.0.21->contractions)\n",
            "  Downloading pyahocorasick-2.1.0-cp311-cp311-manylinux_2_17_x86_64.manylinux2014_x86_64.whl.metadata (13 kB)\n",
            "Downloading contractions-0.1.73-py2.py3-none-any.whl (8.7 kB)\n",
            "Downloading emoji-2.14.1-py3-none-any.whl (590 kB)\n",
            "\u001b[2K   \u001b[90m━━━━━━━━━━━━━━━━━━━━━━━━━━━━━━━━━━━━━━━━\u001b[0m \u001b[32m590.6/590.6 kB\u001b[0m \u001b[31m23.6 MB/s\u001b[0m eta \u001b[36m0:00:00\u001b[0m\n",
            "\u001b[?25hDownloading pyspellchecker-0.8.2-py3-none-any.whl (7.1 MB)\n",
            "\u001b[2K   \u001b[90m━━━━━━━━━━━━━━━━━━━━━━━━━━━━━━━━━━━━━━━━\u001b[0m \u001b[32m7.1/7.1 MB\u001b[0m \u001b[31m68.0 MB/s\u001b[0m eta \u001b[36m0:00:00\u001b[0m\n",
            "\u001b[?25hDownloading textsearch-0.0.24-py2.py3-none-any.whl (7.6 kB)\n",
            "Downloading anyascii-0.3.2-py3-none-any.whl (289 kB)\n",
            "\u001b[2K   \u001b[90m━━━━━━━━━━━━━━━━━━━━━━━━━━━━━━━━━━━━━━━━\u001b[0m \u001b[32m289.9/289.9 kB\u001b[0m \u001b[31m19.0 MB/s\u001b[0m eta \u001b[36m0:00:00\u001b[0m\n",
            "\u001b[?25hDownloading pyahocorasick-2.1.0-cp311-cp311-manylinux_2_17_x86_64.manylinux2014_x86_64.whl (118 kB)\n",
            "\u001b[2K   \u001b[90m━━━━━━━━━━━━━━━━━━━━━━━━━━━━━━━━━━━━━━━━\u001b[0m \u001b[32m118.3/118.3 kB\u001b[0m \u001b[31m9.2 MB/s\u001b[0m eta \u001b[36m0:00:00\u001b[0m\n",
            "\u001b[?25hInstalling collected packages: pyspellchecker, pyahocorasick, emoji, anyascii, textsearch, contractions\n",
            "Successfully installed anyascii-0.3.2 contractions-0.1.73 emoji-2.14.1 pyahocorasick-2.1.0 pyspellchecker-0.8.2 textsearch-0.0.24\n"
          ]
        }
      ],
      "source": [
        "!pip install nltk contractions emoji pyspellchecker\n"
      ]
    },
    {
      "cell_type": "code",
      "execution_count": null,
      "metadata": {
        "id": "LiaX9Vws19Ue"
      },
      "outputs": [],
      "source": [
        "import pandas as pd\n",
        "import numpy as np\n",
        "import re\n",
        "import nltk\n",
        "from nltk.corpus import stopwords\n",
        "from nltk.tokenize import word_tokenize\n",
        "from nltk.stem import WordNetLemmatizer, PorterStemmer\n",
        "import string\n",
        "from bs4 import BeautifulSoup\n",
        "import contractions\n",
        "import emoji\n",
        "from spellchecker import SpellChecker\n",
        "\n",
        "from sklearn.model_selection import train_test_split\n",
        "from sklearn.linear_model import LogisticRegression\n",
        "from sklearn.metrics import (\n",
        "    accuracy_score,\n",
        "    precision_score,\n",
        "    recall_score,\n",
        "    f1_score,\n",
        "    classification_report,\n",
        "    confusion_matrix\n",
        ")\n",
        "\n",
        "from sklearn.feature_extraction.text import CountVectorizer\n",
        "\n",
        "import seaborn as sns\n",
        "import matplotlib.pyplot as plt"
      ]
    },
    {
      "cell_type": "code",
      "execution_count": null,
      "metadata": {
        "colab": {
          "base_uri": "https://localhost:8080/"
        },
        "id": "hrH3s_5hf2Ja",
        "outputId": "1fa259ab-3ca2-430f-afb7-680f14a34f6c"
      },
      "outputs": [
        {
          "name": "stdout",
          "output_type": "stream",
          "text": [
            "Found existing installation: nltk 3.9.1\n",
            "Uninstalling nltk-3.9.1:\n",
            "  Successfully uninstalled nltk-3.9.1\n",
            "\u001b[2K   \u001b[90m━━━━━━━━━━━━━━━━━━━━━━━━━━━━━━━━━━━━━━━━\u001b[0m \u001b[32m1.5/1.5 MB\u001b[0m \u001b[31m17.3 MB/s\u001b[0m eta \u001b[36m0:00:00\u001b[0m\n",
            "\u001b[?25h"
          ]
        },
        {
          "name": "stderr",
          "output_type": "stream",
          "text": [
            "[nltk_data] Downloading package punkt to /root/nltk_data...\n",
            "[nltk_data]   Unzipping tokenizers/punkt.zip.\n",
            "[nltk_data] Downloading package stopwords to /root/nltk_data...\n",
            "[nltk_data]   Unzipping corpora/stopwords.zip.\n",
            "[nltk_data] Downloading package wordnet to /root/nltk_data...\n",
            "[nltk_data] Downloading package omw-1.4 to /root/nltk_data...\n"
          ]
        }
      ],
      "source": [
        "# Re-import and re-download all required NLTK components\n",
        "# Step 1: Clean install NLTK and force all needed downloads\n",
        "!pip uninstall -y nltk\n",
        "!pip install nltk --upgrade --quiet\n",
        "\n",
        "# Step 2: Import and force-download again\n",
        "import nltk\n",
        "\n",
        "nltk.download('punkt', force=True)\n",
        "nltk.download('stopwords', force=True)\n",
        "nltk.download('wordnet', force=True)\n",
        "nltk.download('omw-1.4', force=True)\n",
        "\n",
        "stemmer = PorterStemmer()\n",
        "lemmatizer = WordNetLemmatizer()\n",
        "spell = SpellChecker()\n",
        "\n",
        "\n"
      ]
    },
    {
      "cell_type": "code",
      "execution_count": null,
      "metadata": {
        "id": "TSZLSjEJgQ2w"
      },
      "outputs": [],
      "source": [
        "def preprocess_text(text):\n",
        "    text = text.lower()  # Convert to lowercase\n",
        "    text = re.sub(r'\\W', ' ', text)  # Remove special characters\n",
        "    words = text.split()\n",
        "\n",
        "    # Initialize lemmatizer and stemmer\n",
        "    lemmatizer = WordNetLemmatizer()\n",
        "    stemmer = PorterStemmer()\n",
        "\n",
        "    # Remove stopwords, apply lemmatization and stemming\n",
        "    processed_words = [stemmer.stem(lemmatizer.lemmatize(word)) for word in words if word not in stopwords.words('english')]\n",
        "\n",
        "    return ' '.join(processed_words)"
      ]
    },
    {
      "cell_type": "code",
      "execution_count": null,
      "metadata": {
        "id": "jCTWRCvi2yOz"
      },
      "outputs": [],
      "source": [
        "df['combined_text'] = df['headlines'].astype(str) + \" \" + \\\n",
        "                      df['description'].astype(str) + \" \" + \\\n",
        "                      df['content'].astype(str)"
      ]
    },
    {
      "cell_type": "code",
      "execution_count": null,
      "metadata": {
        "id": "PAhQ2NRPhVPY"
      },
      "outputs": [],
      "source": [
        "# Apply preprocessing (rerun this after the download)\n",
        "df['cleaned_text'] = df['combined_text'].apply(preprocess_text)\n"
      ]
    },
    {
      "cell_type": "code",
      "execution_count": null,
      "metadata": {
        "colab": {
          "base_uri": "https://localhost:8080/"
        },
        "id": "TrPaHeVAhWCY",
        "outputId": "f1219c55-1fc1-4024-d539-82a98065f0f3"
      },
      "outputs": [
        {
          "name": "stdout",
          "output_type": "stream",
          "text": [
            "TF-IDF Word-level shape: (10000, 5000)\n",
            "TF-IDF Char-level shape: (10000, 5000)\n",
            "CountVectorizer shape  : (10000, 5000)\n"
          ]
        }
      ],
      "source": [
        "from sklearn.feature_extraction.text import TfidfVectorizer, CountVectorizer\n",
        "\n",
        "# Use cleaned text as input\n",
        "texts = df['cleaned_text'].fillna('')  # just in case of missing values\n",
        "\n",
        "# ---------------------------\n",
        "# 1. TF-IDF (word-level unigrams & bigrams)\n",
        "# ---------------------------\n",
        "tfidf_word_vectorizer = TfidfVectorizer(analyzer='word', ngram_range=(1, 2), max_features=5000)\n",
        "X_tfidf_word = tfidf_word_vectorizer.fit_transform(texts)\n",
        "\n",
        "# ---------------------------\n",
        "# 2. TF-IDF (character-level n-grams)\n",
        "# ---------------------------\n",
        "tfidf_char_vectorizer = TfidfVectorizer(analyzer='char', ngram_range=(2, 5), max_features=5000)\n",
        "X_tfidf_char = tfidf_char_vectorizer.fit_transform(texts)\n",
        "\n",
        "# ---------------------------\n",
        "# 3. CountVectorizer (optional - word level)\n",
        "# ---------------------------\n",
        "count_vectorizer = CountVectorizer(analyzer='word', ngram_range=(1, 2), max_features=5000)\n",
        "X_count = count_vectorizer.fit_transform(texts)\n",
        "\n",
        "# Output the shape of each representation\n",
        "print(\"TF-IDF Word-level shape:\", X_tfidf_word.shape)\n",
        "print(\"TF-IDF Char-level shape:\", X_tfidf_char.shape)\n",
        "print(\"CountVectorizer shape  :\", X_count.shape)\n"
      ]
    },
    {
      "cell_type": "code",
      "execution_count": null,
      "metadata": {
        "id": "3tSnKAXM3AbD"
      },
      "outputs": [],
      "source": [
        "from sklearn.model_selection import train_test_split\n",
        "from sklearn.preprocessing import LabelEncoder\n",
        "\n",
        "# Encode labels (assuming column is named 'category')\n",
        "label_encoder = LabelEncoder()\n",
        "y = label_encoder.fit_transform(df['category'])\n",
        "\n",
        "# Split dataset (using TF-IDF word-level features as example)\n",
        "X_train, X_test, y_train, y_test = train_test_split(X_tfidf_word, y, test_size=0.2, random_state=42)\n"
      ]
    },
    {
      "cell_type": "code",
      "execution_count": null,
      "metadata": {
        "colab": {
          "base_uri": "https://localhost:8080/"
        },
        "id": "zXHrSogU3DIq",
        "outputId": "f896d186-edf6-4671-a3d6-7b3702fbf539"
      },
      "outputs": [
        {
          "name": "stdout",
          "output_type": "stream",
          "text": [
            "--- Logistic Regression ---\n",
            "Accuracy: 0.986\n",
            "               precision    recall  f1-score   support\n",
            "\n",
            "     business       0.98      0.97      0.97       410\n",
            "    education       1.00      0.99      1.00       393\n",
            "entertainment       1.00      0.99      1.00       395\n",
            "       sports       0.99      1.00      0.99       415\n",
            "   technology       0.96      0.97      0.97       387\n",
            "\n",
            "     accuracy                           0.99      2000\n",
            "    macro avg       0.99      0.99      0.99      2000\n",
            " weighted avg       0.99      0.99      0.99      2000\n",
            "\n",
            "--- Multinomial Naive Bayes ---\n",
            "Accuracy: 0.985\n",
            "               precision    recall  f1-score   support\n",
            "\n",
            "     business       0.98      0.96      0.97       410\n",
            "    education       1.00      0.99      1.00       393\n",
            "entertainment       1.00      1.00      1.00       395\n",
            "       sports       0.99      1.00      0.99       415\n",
            "   technology       0.96      0.98      0.97       387\n",
            "\n",
            "     accuracy                           0.98      2000\n",
            "    macro avg       0.98      0.99      0.98      2000\n",
            " weighted avg       0.99      0.98      0.99      2000\n",
            "\n",
            "--- Random Forest ---\n",
            "Accuracy: 0.969\n",
            "               precision    recall  f1-score   support\n",
            "\n",
            "     business       0.96      0.96      0.96       410\n",
            "    education       0.99      0.99      0.99       393\n",
            "entertainment       1.00      0.95      0.98       395\n",
            "       sports       0.98      0.99      0.98       415\n",
            "   technology       0.92      0.95      0.94       387\n",
            "\n",
            "     accuracy                           0.97      2000\n",
            "    macro avg       0.97      0.97      0.97      2000\n",
            " weighted avg       0.97      0.97      0.97      2000\n",
            "\n"
          ]
        },
        {
          "name": "stderr",
          "output_type": "stream",
          "text": [
            "/usr/local/lib/python3.11/dist-packages/xgboost/core.py:158: UserWarning: [06:13:03] WARNING: /workspace/src/learner.cc:740: \n",
            "Parameters: { \"use_label_encoder\" } are not used.\n",
            "\n",
            "  warnings.warn(smsg, UserWarning)\n"
          ]
        },
        {
          "name": "stdout",
          "output_type": "stream",
          "text": [
            "--- XGBoost ---\n",
            "Accuracy: 0.9765\n",
            "               precision    recall  f1-score   support\n",
            "\n",
            "     business       0.97      0.96      0.97       410\n",
            "    education       0.99      0.99      0.99       393\n",
            "entertainment       0.99      0.97      0.98       395\n",
            "       sports       0.99      0.98      0.99       415\n",
            "   technology       0.94      0.97      0.96       387\n",
            "\n",
            "     accuracy                           0.98      2000\n",
            "    macro avg       0.98      0.98      0.98      2000\n",
            " weighted avg       0.98      0.98      0.98      2000\n",
            "\n"
          ]
        }
      ],
      "source": [
        "from sklearn.linear_model import LogisticRegression\n",
        "from sklearn.naive_bayes import MultinomialNB\n",
        "from sklearn.ensemble import RandomForestClassifier\n",
        "from xgboost import XGBClassifier\n",
        "from sklearn.metrics import classification_report, accuracy_score\n",
        "\n",
        "# Helper function to train and evaluate\n",
        "def train_evaluate(model, name):\n",
        "    model.fit(X_train, y_train)\n",
        "    y_pred = model.predict(X_test)\n",
        "    print(f\"--- {name} ---\")\n",
        "    print(\"Accuracy:\", accuracy_score(y_test, y_pred))\n",
        "    print(classification_report(y_test, y_pred, target_names=label_encoder.classes_))\n",
        "\n",
        "# Logistic Regression\n",
        "lr = LogisticRegression(max_iter=1000)\n",
        "train_evaluate(lr, \"Logistic Regression\")\n",
        "\n",
        "# Multinomial Naive Bayes\n",
        "nb = MultinomialNB()\n",
        "train_evaluate(nb, \"Multinomial Naive Bayes\")\n",
        "\n",
        "# Random Forest\n",
        "rf = RandomForestClassifier(n_estimators=100, random_state=42)\n",
        "train_evaluate(rf, \"Random Forest\")\n",
        "\n",
        "# XGBoost\n",
        "xgb = XGBClassifier(use_label_encoder=False, eval_metric='mlogloss', random_state=42)\n",
        "train_evaluate(xgb, \"XGBoost\")\n"
      ]
    },
    {
      "cell_type": "code",
      "execution_count": null,
      "metadata": {
        "colab": {
          "base_uri": "https://localhost:8080/"
        },
        "id": "W4jwclvc3FFA",
        "outputId": "7e892529-b76b-4b1c-e6ac-607b6d6f31b7"
      },
      "outputs": [
        {
          "name": "stdout",
          "output_type": "stream",
          "text": [
            "Classification Report:\n",
            "               precision    recall  f1-score   support\n",
            "\n",
            "     business       0.98      0.97      0.97       410\n",
            "    education       1.00      0.99      1.00       393\n",
            "entertainment       1.00      0.99      1.00       395\n",
            "       sports       0.99      1.00      0.99       415\n",
            "   technology       0.96      0.97      0.97       387\n",
            "\n",
            "     accuracy                           0.99      2000\n",
            "    macro avg       0.99      0.99      0.99      2000\n",
            " weighted avg       0.99      0.99      0.99      2000\n",
            "\n"
          ]
        }
      ],
      "source": [
        "from sklearn.metrics import accuracy_score, precision_recall_fscore_support, classification_report\n",
        "\n",
        "# Predict again if needed\n",
        "y_pred = lr.predict(X_test)\n",
        "\n",
        "# Report\n",
        "print(\"Classification Report:\")\n",
        "print(classification_report(y_test, y_pred, target_names=label_encoder.classes_))\n"
      ]
    },
    {
      "cell_type": "code",
      "execution_count": null,
      "metadata": {
        "colab": {
          "base_uri": "https://localhost:8080/",
          "height": 564
        },
        "id": "F7-lbDvj3IRc",
        "outputId": "01124b54-da6f-447f-97bf-e0fb6a59d31c"
      },
      "outputs": [
        {
          "data": {
            "image/png": "[encoded data removed]",
            "text/plain": [
              "<Figure size 800x600 with 2 Axes>"
            ]
          },
          "metadata": {},
          "output_type": "display_data"
        }
      ],
      "source": [
        "from sklearn.metrics import confusion_matrix\n",
        "import seaborn as sns\n",
        "import matplotlib.pyplot as plt\n",
        "\n",
        "# Generate and plot confusion matrix\n",
        "cm = confusion_matrix(y_test, y_pred)\n",
        "plt.figure(figsize=(8, 6))\n",
        "sns.heatmap(cm, annot=True, fmt='d', cmap='Blues',\n",
        "            xticklabels=label_encoder.classes_,\n",
        "            yticklabels=label_encoder.classes_)\n",
        "plt.xlabel('Predicted')\n",
        "plt.ylabel('True')\n",
        "plt.title('Confusion Matrix')\n",
        "plt.show()\n"
      ]
    },
    {
      "cell_type": "code",
      "execution_count": null,
      "metadata": {
        "colab": {
          "base_uri": "https://localhost:8080/"
        },
        "id": "tlP4_vD-3KRt",
        "outputId": "2d98f04c-8963-448f-8c66-0fddf49d4530"
      },
      "outputs": [
        {
          "name": "stdout",
          "output_type": "stream",
          "text": [
            "Cross-Validation Accuracy Scores: [0.975  0.981  0.9805 0.989  0.987 ]\n",
            "Mean CV Accuracy: 0.9824999999999999\n"
          ]
        }
      ],
      "source": [
        "from sklearn.model_selection import cross_val_score\n",
        "import numpy as np\n",
        "\n",
        "# Run 5-fold CV on Logistic Regression\n",
        "cv_scores = cross_val_score(lr, X_tfidf_word, y, cv=5, scoring='accuracy')\n",
        "print(\"Cross-Validation Accuracy Scores:\", cv_scores)\n",
        "print(\"Mean CV Accuracy:\", np.mean(cv_scores))\n"
      ]
    },
    {
      "cell_type": "code",
      "execution_count": null,
      "metadata": {
        "colab": {
          "background_save": true,
          "base_uri": "https://localhost:8080/"
        },
        "id": "HMBchdqY3MWr",
        "outputId": "432b980a-22c3-41c2-8989-47ba608b710c"
      },
      "outputs": [
        {
          "name": "stdout",
          "output_type": "stream",
          "text": [
            "Fitting 5 folds for each of 20 candidates, totalling 100 fits\n"
          ]
        }
      ],
      "source": [
        "from sklearn.model_selection import RandomizedSearchCV\n",
        "from xgboost import XGBClassifier\n",
        "import numpy as np\n",
        "\n",
        "# Define the parameter grid\n",
        "param_dist = {\n",
        "    'n_estimators': [100, 200, 300, 500],\n",
        "    'max_depth': [3, 5, 7, 10],\n",
        "    'learning_rate': [0.01, 0.05, 0.1, 0.2],\n",
        "    'subsample': [0.6, 0.8, 1.0],\n",
        "    'colsample_bytree': [0.6, 0.8, 1.0]\n",
        "}\n",
        "\n",
        "# Initialize XGBoost classifier\n",
        "xgb_model = XGBClassifier(use_label_encoder=False, eval_metric='mlogloss', random_state=42)\n",
        "\n",
        "# Setup RandomizedSearchCV\n",
        "random_search = RandomizedSearchCV(\n",
        "    estimator=xgb_model,\n",
        "    param_distributions=param_dist,\n",
        "    n_iter=20,  # You can increase this for more thorough search\n",
        "    scoring='accuracy',\n",
        "    cv=5,\n",
        "    verbose=2,\n",
        "    random_state=42,\n",
        "    n_jobs=-1\n",
        ")\n",
        "\n",
        "# Fit on full dataset\n",
        "random_search.fit(X_tfidf_word, y)\n",
        "\n",
        "# Best parameters and score\n",
        "print(\"Best Parameters:\", random_search.best_params_)\n",
        "print(\"Best Accuracy:\", random_search.best_score_)\n"
      ]
    },
    {
      "cell_type": "code",
      "execution_count": null,
      "metadata": {
        "id": "nwlxgI0I3O2c"
      },
      "outputs": [],
      "source": [
        "from sklearn.model_selection import GridSearchCV\n",
        "\n",
        "# Use smaller grid to avoid long runtimes\n",
        "param_grid = {\n",
        "    'n_estimators': [100, 200],\n",
        "    'max_depth': [3, 5],\n",
        "    'learning_rate': [0.05, 0.1]\n",
        "}\n",
        "\n",
        "grid_search = GridSearchCV(\n",
        "    estimator=xgb_model,\n",
        "    param_grid=param_grid,\n",
        "    scoring='accuracy',\n",
        "    cv=3,\n",
        "    verbose=2,\n",
        "    n_jobs=-1\n",
        ")\n",
        "\n",
        "grid_search.fit(X_tfidf_word, y)\n",
        "\n",
        "print(\"Best Parameters from GridSearchCV:\", grid_search.best_params_)\n",
        "print(\"Best Score from GridSearchCV:\", grid_search.best_score_)\n"
      ]
    },
    {
      "cell_type": "code",
      "execution_count": null,
      "metadata": {
        "id": "BQPhDwN33Q90"
      },
      "outputs": [],
      "source": [
        "# Assuming new_data is a DataFrame with 'headline', 'short_description', 'content' columns\n",
        "new_data['combined_text'] = new_data['headlines'] + \" \" + new_data['description'] + \" \" + new_data['content']\n",
        "new_data['cleaned_text'] = new_data['combined_text'].apply(preprocess_text)\n",
        "\n",
        "# Apply the same vectorizer (TF-IDF) to transform the new data\n",
        "X_new = tfidf_word_vectorizer.transform(new_data['cleaned_text'])\n",
        "\n",
        "# Make predictions on the new/unseen data\n",
        "y_new_pred = random_search.best_estimator_.predict(X_new)\n",
        "\n",
        "# Convert numerical predictions back to original class labels\n",
        "y_new_pred_labels = label_encoder.inverse_transform(y_new_pred)\n",
        "new_data['predicted_category'] = y_new_pred_labels\n"
      ]
    },
    {
      "cell_type": "code",
      "execution_count": null,
      "metadata": {
        "id": "ypLbd05d3Y-l"
      },
      "outputs": [],
      "source": [
        "from sklearn.metrics import classification_report, confusion_matrix\n",
        "import seaborn as sns\n",
        "import matplotlib.pyplot as plt\n",
        "\n",
        "# Calculate confusion matrix\n",
        "cm = confusion_matrix(y_new, y_new_pred)  # assuming you have ground truth 'y_new'\n",
        "\n",
        "# Plot confusion matrix using seaborn heatmap\n",
        "plt.figure(figsize=(10, 8))\n",
        "sns.heatmap(cm, annot=True, fmt='d', cmap='Blues',\n",
        "            xticklabels=label_encoder.classes_,\n",
        "            yticklabels=label_encoder.classes_)\n",
        "plt.xlabel('Predicted')\n",
        "plt.ylabel('True')\n",
        "plt.title('Confusion Matrix for New Data')\n",
        "plt.show()\n",
        "\n",
        "# Print classification report\n",
        "print(\"Classification Report for New Data:\")\n",
        "print(classification_report(y_new, y_new_pred, target_names=label_encoder.classes_))\n"
      ]
    },
    {
      "cell_type": "code",
      "execution_count": null,
      "metadata": {
        "id": "bMNaMss93a64"
      },
      "outputs": [],
      "source": [
        "import joblib\n",
        "\n",
        "# Save the trained model (XGBoost, or any model you trained)\n",
        "joblib.dump(random_search.best_estimator_, 'xgb_news_classifier.joblib')\n",
        "\n",
        "# Save the vectorizer (for future use with new data)\n",
        "joblib.dump(tfidf_word_vectorizer, 'tfidf_word_vectorizer.joblib')\n"
      ]
    },
    {
      "cell_type": "code",
      "execution_count": null,
      "metadata": {
        "id": "mC_WKFZ23dA_"
      },
      "outputs": [],
      "source": [
        "# Load the saved model\n",
        "model = joblib.load('xgb_news_classifier.joblib')\n",
        "\n",
        "# Load the saved vectorizer\n",
        "vectorizer = joblib.load('tfidf_word_vectorizer.joblib')\n",
        "\n",
        "# Transform new unseen data\n",
        "X_new_transformed = vectorizer.transform(new_data['cleaned_text'])\n",
        "\n",
        "# Generate predictions\n",
        "y_new_pred = model.predict(X_new_transformed)\n",
        "\n",
        "# Convert back to original labels\n",
        "y_new_pred_labels = label_encoder.inverse_transform(y_new_pred)\n"
      ]
    },
    {
      "cell_type": "code",
      "execution_count": null,
      "metadata": {
        "id": "wDW1gQJi3hAr"
      },
      "outputs": [],
      "source": []
    }
  ],
  "metadata": {
    "colab": {
      "provenance": []
    },
    "kernelspec": {
      "display_name": "Python 3",
      "name": "python3"
    },
    "language_info": {
      "name": "python"
    }
  },
  "nbformat": 4,
  "nbformat_minor": 0
}